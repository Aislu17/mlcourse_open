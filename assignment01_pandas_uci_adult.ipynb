{
 "cells":[
  {
   "cell_type":"markdown",
   "source":[
    "(assignment01)=\n",
    "\n",
    "# Assignment #1 (demo). Exploratory data analysis with Pandas\n",
    "\n",
    "```{figure} \/_static\/img\/ods_stickers.jpg\n",
    ":name: ods_stickers\n",
    "```\n",
    "\n",
    "**<center>[mlcourse.ai](https:\/\/mlcourse.ai) – Open Machine Learning Course** <\/center><br>\n",
    "\n",
    "Author: [Yury Kashnitsky](https:\/\/www.linkedin.com\/in\/festline\/). Translated and edited by [Sergey Isaev](https:\/\/www.linkedin.com\/in\/isvforall\/), [Artem Trunov](https:\/\/www.linkedin.com\/in\/datamove\/), [Anastasia Manokhina](https:\/\/www.linkedin.com\/in\/anastasiamanokhina\/), and [Yuanyuan Pao](https:\/\/www.linkedin.com\/in\/yuanyuanpao\/). All content is distributed under the [Creative Commons CC BY-NC-SA 4.0](https:\/\/creativecommons.org\/licenses\/by-nc-sa\/4.0\/) license.\n",
    "\n",
    "\n",
    "**Same assignment as a [Kaggle Kernel](https:\/\/www.kaggle.com\/kashnitsky\/a1-demo-pandas-and-uci-adult-dataset) + [solution](https:\/\/www.kaggle.com\/kashnitsky\/a1-demo-pandas-and-uci-adult-dataset-solution).**\n",
    "\n",
    "**In this task you should use Pandas to answer a few questions about the [Adult](https:\/\/archive.ics.uci.edu\/ml\/datasets\/Adult) dataset. (You don't have to download the data – it's already  in the repository). Choose the answers in the [web-form](https:\/\/docs.google.com\/forms\/d\/1uY7MpI2trKx6FLWZte0uVh3ULV4Cm_tDud0VDFGCOKg).**\n",
    "\n",
    "Unique values of features (for more information please see the link above):\n",
    "- `age`: continuous;\n",
    "- `workclass`: `Private`, `Self-emp-not-inc`, `Self-emp-inc`, `Federal-gov`, `Local-gov`, `State-gov`, `Without-pay`, `Never-worked`;\n",
    "- `fnlwgt`: continuous;\n",
    "- `education`: `Bachelors`, `Some-college`, `11th`, `HS-grad`, `Prof-school`, `Assoc-acdm`, `Assoc-voc`, `9th`, `7th-8th`, `12th`, `Masters`, `1st-4th`, `10th`, `Doctorate`, `5th-6th`, `Preschool`;\n",
    "- `education-num`: continuous;\n",
    "- `marital-status`: `Married-civ-spouse`, `Divorced`, `Never-married`, `Separated`, `Widowed`, `Married-spouse-absent`, `Married-AF-spouse`,\n",
    "- `occupation`: `Tech-support`, `Craft-repair`, `Other-service`, `Sales`, `Exec-managerial`, `Prof-specialty`, `Handlers-cleaners`, `Machine-op-inspct`, `Adm-clerical`, `Farming-fishing`, `Transport-moving`, `Priv-house-serv`, `Protective-serv`, `Armed-Forces`;\n",
    "- `relationship`: `Wife`, `Own-child`, `Husband`, `Not-in-family`, `Other-relative`, `Unmarried`;\n",
    "- `race`: `White`, `Asian-Pac-Islander`, `Amer-Indian-Eskimo`, `Other`, `Black`;\n",
    "- `sex`: `Female`, `Male`;\n",
    "- `capital-gain`: continuous.\n",
    "- `capital-loss`: continuous.\n",
    "- `hours-per-week`: continuous.\n",
    "- `native-country`: `United-States`, `Cambodia`, `England`, `Puerto-Rico`, `Canada`, `Germany`, `Outlying-US(Guam-USVI-etc)`, `India`, `Japan`, `Greece`, `South`, `China`, `Cuba`, `Iran`, `Honduras`, `Philippines`, `Italy`, `Poland`, `Jamaica`, `Vietnam`, `Mexico`, `Portugal`, `Ireland`, `France`, `Dominican-Republic`, `Laos`, `Ecuador`, `Taiwan`, `Haiti`, `Columbia`, `Hungary`, `Guatemala`, `Nicaragua`, `Scotland`, `Thailand`, `Yugoslavia`, `El-Salvador`, `Trinadad&Tobago`, `Peru`, `Hong`, `Holand-Netherlands`;\n",
    "- `salary`: `>50K`, `<=50K`."
   ],
   "attachments":{
    
   },
   "metadata":{
    "datalore":{
     "type":"MD",
     "hide_input_from_viewers":false,
     "hide_output_from_viewers":false
    }
   }
  },
  {
   "cell_type":"code",
   "source":[
    "import numpy as np\n",
    "import pandas as pd\n",
    "\n",
    "pd.set_option(\"display.max.columns\", 100)\n",
    "# to draw pictures in jupyter notebook\n",
    "%matplotlib inline\n",
    "import warnings\n",
    "\n",
    "import matplotlib.pyplot as plt\n",
    "import seaborn as sns\n",
    "\n",
    "warnings.filterwarnings(\"ignore\")"
   ],
   "execution_count":2,
   "outputs":[
    
   ],
   "metadata":{
    "datalore":{
     "type":"CODE",
     "hide_input_from_viewers":false,
     "hide_output_from_viewers":false
    }
   }
  },
  {
   "cell_type":"code",
   "source":[
    "DATA_URL = \"https:\/\/raw.githubusercontent.com\/Yorko\/mlcourse.ai\/master\/data\/\""
   ],
   "execution_count":5,
   "outputs":[
    
   ],
   "metadata":{
    "datalore":{
     "type":"CODE",
     "hide_input_from_viewers":false,
     "hide_output_from_viewers":false
    }
   }
  },
  {
   "cell_type":"code",
   "source":[
    "df = pd.read_csv(DATA_URL + \"adult.data.csv\")\n",
    "df.head()"
   ],
   "execution_count":20,
   "outputs":[
    {
     "data":{
      "text\/html":[
       "<div>\n",
       "<style scoped>\n",
       "    .dataframe tbody tr th:only-of-type {\n",
       "        vertical-align: middle;\n",
       "    }\n",
       "\n",
       "    .dataframe tbody tr th {\n",
       "        vertical-align: top;\n",
       "    }\n",
       "\n",
       "    .dataframe thead th {\n",
       "        text-align: right;\n",
       "    }\n",
       "<\/style>\n",
       "<table border=\"1\" class=\"dataframe\">\n",
       "  <thead>\n",
       "    <tr style=\"text-align: right;\">\n",
       "      <th><\/th>\n",
       "      <th>age<\/th>\n",
       "      <th>workclass<\/th>\n",
       "      <th>fnlwgt<\/th>\n",
       "      <th>education<\/th>\n",
       "      <th>education-num<\/th>\n",
       "      <th>marital-status<\/th>\n",
       "      <th>occupation<\/th>\n",
       "      <th>relationship<\/th>\n",
       "      <th>race<\/th>\n",
       "      <th>sex<\/th>\n",
       "      <th>capital-gain<\/th>\n",
       "      <th>capital-loss<\/th>\n",
       "      <th>hours-per-week<\/th>\n",
       "      <th>native-country<\/th>\n",
       "      <th>salary<\/th>\n",
       "    <\/tr>\n",
       "  <\/thead>\n",
       "  <tbody>\n",
       "    <tr>\n",
       "      <th>32556<\/th>\n",
       "      <td>27<\/td>\n",
       "      <td>Private<\/td>\n",
       "      <td>257302<\/td>\n",
       "      <td>Assoc-acdm<\/td>\n",
       "      <td>12<\/td>\n",
       "      <td>Married-civ-spouse<\/td>\n",
       "      <td>Tech-support<\/td>\n",
       "      <td>Wife<\/td>\n",
       "      <td>White<\/td>\n",
       "      <td>Female<\/td>\n",
       "      <td>0<\/td>\n",
       "      <td>0<\/td>\n",
       "      <td>38<\/td>\n",
       "      <td>United-States<\/td>\n",
       "      <td>&lt;=50K<\/td>\n",
       "    <\/tr>\n",
       "    <tr>\n",
       "      <th>32557<\/th>\n",
       "      <td>40<\/td>\n",
       "      <td>Private<\/td>\n",
       "      <td>154374<\/td>\n",
       "      <td>HS-grad<\/td>\n",
       "      <td>9<\/td>\n",
       "      <td>Married-civ-spouse<\/td>\n",
       "      <td>Machine-op-inspct<\/td>\n",
       "      <td>Husband<\/td>\n",
       "      <td>White<\/td>\n",
       "      <td>Male<\/td>\n",
       "      <td>0<\/td>\n",
       "      <td>0<\/td>\n",
       "      <td>40<\/td>\n",
       "      <td>United-States<\/td>\n",
       "      <td>&gt;50K<\/td>\n",
       "    <\/tr>\n",
       "    <tr>\n",
       "      <th>32558<\/th>\n",
       "      <td>58<\/td>\n",
       "      <td>Private<\/td>\n",
       "      <td>151910<\/td>\n",
       "      <td>HS-grad<\/td>\n",
       "      <td>9<\/td>\n",
       "      <td>Widowed<\/td>\n",
       "      <td>Adm-clerical<\/td>\n",
       "      <td>Unmarried<\/td>\n",
       "      <td>White<\/td>\n",
       "      <td>Female<\/td>\n",
       "      <td>0<\/td>\n",
       "      <td>0<\/td>\n",
       "      <td>40<\/td>\n",
       "      <td>United-States<\/td>\n",
       "      <td>&lt;=50K<\/td>\n",
       "    <\/tr>\n",
       "    <tr>\n",
       "      <th>32559<\/th>\n",
       "      <td>22<\/td>\n",
       "      <td>Private<\/td>\n",
       "      <td>201490<\/td>\n",
       "      <td>HS-grad<\/td>\n",
       "      <td>9<\/td>\n",
       "      <td>Never-married<\/td>\n",
       "      <td>Adm-clerical<\/td>\n",
       "      <td>Own-child<\/td>\n",
       "      <td>White<\/td>\n",
       "      <td>Male<\/td>\n",
       "      <td>0<\/td>\n",
       "      <td>0<\/td>\n",
       "      <td>20<\/td>\n",
       "      <td>United-States<\/td>\n",
       "      <td>&lt;=50K<\/td>\n",
       "    <\/tr>\n",
       "    <tr>\n",
       "      <th>32560<\/th>\n",
       "      <td>52<\/td>\n",
       "      <td>Self-emp-inc<\/td>\n",
       "      <td>287927<\/td>\n",
       "      <td>HS-grad<\/td>\n",
       "      <td>9<\/td>\n",
       "      <td>Married-civ-spouse<\/td>\n",
       "      <td>Exec-managerial<\/td>\n",
       "      <td>Wife<\/td>\n",
       "      <td>White<\/td>\n",
       "      <td>Female<\/td>\n",
       "      <td>15024<\/td>\n",
       "      <td>0<\/td>\n",
       "      <td>40<\/td>\n",
       "      <td>United-States<\/td>\n",
       "      <td>&gt;50K<\/td>\n",
       "    <\/tr>\n",
       "  <\/tbody>\n",
       "<\/table>\n",
       "<\/div>"
      ]
     },
     "metadata":{
      
     },
     "output_type":"display_data"
    }
   ],
   "metadata":{
    "datalore":{
     "type":"CODE",
     "hide_input_from_viewers":false,
     "hide_output_from_viewers":false
    }
   }
  },
  {
   "cell_type":"markdown",
   "source":[
    "**1. How many men and women (*sex* feature) are represented in this dataset?**"
   ],
   "attachments":{
    
   },
   "metadata":{
    "datalore":{
     "type":"MD",
     "hide_input_from_viewers":false,
     "hide_output_from_viewers":false
    }
   }
  },
  {
   "cell_type":"code",
   "source":[
    "df['sex'].value_counts()"
   ],
   "execution_count":8,
   "outputs":[
    {
     "data":{
      "text\/html":[
       
      ]
     },
     "metadata":{
      
     },
     "output_type":"display_data"
    }
   ],
   "metadata":{
    "datalore":{
     "type":"CODE",
     "hide_input_from_viewers":false,
     "hide_output_from_viewers":false
    }
   }
  },
  {
   "cell_type":"markdown",
   "source":[
    "**2. What is the average age (*age* feature) of women?**"
   ],
   "attachments":{
    
   },
   "metadata":{
    "datalore":{
     "type":"MD",
     "hide_input_from_viewers":false,
     "hide_output_from_viewers":false
    }
   }
  },
  {
   "cell_type":"code",
   "source":[
    "df[df['sex'] == 'Female']['age'].mean()"
   ],
   "execution_count":9,
   "outputs":[
    {
     "data":{
      "text\/plain":[
       "36.85823043357163"
      ]
     },
     "metadata":{
      
     },
     "output_type":"display_data"
    }
   ],
   "metadata":{
    "datalore":{
     "type":"CODE",
     "hide_input_from_viewers":false,
     "hide_output_from_viewers":false
    }
   }
  },
  {
   "cell_type":"markdown",
   "source":[
    "**3. What is the percentage of German citizens (*native-country* feature)?**"
   ],
   "attachments":{
    
   },
   "metadata":{
    "datalore":{
     "type":"MD",
     "hide_input_from_viewers":false,
     "hide_output_from_viewers":false
    }
   }
  },
  {
   "cell_type":"code",
   "source":[
    "ger_percentage = df[df['native-country'] == 'Germany']['native-country'].value_counts() * 100 \/ df['native-country'].count()\n",
    "ger_percentage"
   ],
   "execution_count":17,
   "outputs":[
    {
     "data":{
      "text\/html":[
       
      ]
     },
     "metadata":{
      
     },
     "output_type":"display_data"
    }
   ],
   "metadata":{
    "datalore":{
     "type":"CODE",
     "hide_input_from_viewers":false,
     "hide_output_from_viewers":false
    }
   }
  },
  {
   "cell_type":"markdown",
   "source":[
    "**4-5. What are the mean and standard deviation of age for those who earn more than 50K per year (*salary* feature) and those who earn less than 50K per year?**"
   ],
   "attachments":{
    
   },
   "metadata":{
    "datalore":{
     "type":"MD",
     "hide_input_from_viewers":false,
     "hide_output_from_viewers":false
    }
   }
  },
  {
   "cell_type":"code",
   "source":[
    "df[df['salary'] == '>50K']['age'].describe()"
   ],
   "execution_count":21,
   "outputs":[
    {
     "data":{
      "text\/html":[
       
      ]
     },
     "metadata":{
      
     },
     "output_type":"display_data"
    }
   ],
   "metadata":{
    "datalore":{
     "type":"CODE",
     "hide_input_from_viewers":false,
     "hide_output_from_viewers":false
    }
   }
  },
  {
   "cell_type":"code",
   "source":[
    "df[df['salary'] == '<=50K']['age'].describe()"
   ],
   "execution_count":18,
   "outputs":[
    {
     "data":{
      "text\/html":[
       
      ]
     },
     "metadata":{
      
     },
     "output_type":"display_data"
    }
   ],
   "metadata":{
    "datalore":{
     "type":"CODE",
     "hide_input_from_viewers":false,
     "hide_output_from_viewers":false
    }
   }
  },
  {
   "cell_type":"markdown",
   "source":[
    "**6. Is it true that people who earn more than 50K have at least high school education? (*education* – `Bachelors`, `Prof-school`, `Assoc-acdm`, `Assoc-voc`, `Masters` or `Doctorate` feature)**"
   ],
   "attachments":{
    
   },
   "metadata":{
    "datalore":{
     "type":"MD",
     "hide_input_from_viewers":false,
     "hide_output_from_viewers":false
    }
   }
  },
  {
   "cell_type":"code",
   "source":[
    "df[df[\"salary\"] == \">50K\"][\"education\"].unique()"
   ],
   "execution_count":25,
   "outputs":[
    {
     "data":{
      "text\/html":[
       
      ]
     },
     "metadata":{
      
     },
     "output_type":"display_data"
    }
   ],
   "metadata":{
    "datalore":{
     "type":"CODE",
     "hide_input_from_viewers":false,
     "hide_output_from_viewers":false
    }
   }
  },
  {
   "cell_type":"markdown",
   "source":[
    "**7. Display age statistics for each race (*race* feature) and each gender (*sex* feature). Use *groupby()* and *describe()*. Find the maximum age of men of `Amer-Indian-Eskimo` race.**"
   ],
   "attachments":{
    
   },
   "metadata":{
    "datalore":{
     "type":"MD",
     "hide_input_from_viewers":false,
     "hide_output_from_viewers":false
    }
   }
  },
  {
   "cell_type":"code",
   "source":[
    "df.groupby(by=['race', 'sex']).describe()"
   ],
   "execution_count":28,
   "outputs":[
    {
     "data":{
      "text\/html":[
       "<div>\n",
       "<style scoped>\n",
       "    .dataframe tbody tr th:only-of-type {\n",
       "        vertical-align: middle;\n",
       "    }\n",
       "\n",
       "    .dataframe tbody tr th {\n",
       "        vertical-align: top;\n",
       "    }\n",
       "\n",
       "    .dataframe thead tr th {\n",
       "        text-align: left;\n",
       "    }\n",
       "\n",
       "    .dataframe thead tr:last-of-type th {\n",
       "        text-align: right;\n",
       "    }\n",
       "<\/style>\n",
       "<table border=\"1\" class=\"dataframe\">\n",
       "  <thead>\n",
       "    <tr>\n",
       "      <th><\/th>\n",
       "      <th><\/th>\n",
       "      <th colspan=\"8\" halign=\"left\">age<\/th>\n",
       "      <th colspan=\"8\" halign=\"left\">fnlwgt<\/th>\n",
       "      <th colspan=\"8\" halign=\"left\">education-num<\/th>\n",
       "      <th colspan=\"8\" halign=\"left\">capital-gain<\/th>\n",
       "      <th colspan=\"8\" halign=\"left\">capital-loss<\/th>\n",
       "      <th colspan=\"8\" halign=\"left\">hours-per-week<\/th>\n",
       "    <\/tr>\n",
       "    <tr>\n",
       "      <th><\/th>\n",
       "      <th><\/th>\n",
       "      <th>count<\/th>\n",
       "      <th>mean<\/th>\n",
       "      <th>std<\/th>\n",
       "      <th>min<\/th>\n",
       "      <th>25%<\/th>\n",
       "      <th>50%<\/th>\n",
       "      <th>75%<\/th>\n",
       "      <th>max<\/th>\n",
       "      <th>count<\/th>\n",
       "      <th>mean<\/th>\n",
       "      <th>std<\/th>\n",
       "      <th>min<\/th>\n",
       "      <th>25%<\/th>\n",
       "      <th>50%<\/th>\n",
       "      <th>75%<\/th>\n",
       "      <th>max<\/th>\n",
       "      <th>count<\/th>\n",
       "      <th>mean<\/th>\n",
       "      <th>std<\/th>\n",
       "      <th>min<\/th>\n",
       "      <th>25%<\/th>\n",
       "      <th>50%<\/th>\n",
       "      <th>75%<\/th>\n",
       "      <th>max<\/th>\n",
       "      <th>count<\/th>\n",
       "      <th>mean<\/th>\n",
       "      <th>std<\/th>\n",
       "      <th>min<\/th>\n",
       "      <th>25%<\/th>\n",
       "      <th>50%<\/th>\n",
       "      <th>75%<\/th>\n",
       "      <th>max<\/th>\n",
       "      <th>count<\/th>\n",
       "      <th>mean<\/th>\n",
       "      <th>std<\/th>\n",
       "      <th>min<\/th>\n",
       "      <th>25%<\/th>\n",
       "      <th>50%<\/th>\n",
       "      <th>75%<\/th>\n",
       "      <th>max<\/th>\n",
       "      <th>count<\/th>\n",
       "      <th>mean<\/th>\n",
       "      <th>std<\/th>\n",
       "      <th>min<\/th>\n",
       "      <th>25%<\/th>\n",
       "      <th>50%<\/th>\n",
       "      <th>75%<\/th>\n",
       "      <th>max<\/th>\n",
       "    <\/tr>\n",
       "    <tr>\n",
       "      <th>race<\/th>\n",
       "      <th>sex<\/th>\n",
       "      <th><\/th>\n",
       "      <th><\/th>\n",
       "      <th><\/th>\n",
       "      <th><\/th>\n",
       "      <th><\/th>\n",
       "      <th><\/th>\n",
       "      <th><\/th>\n",
       "      <th><\/th>\n",
       "      <th><\/th>\n",
       "      <th><\/th>\n",
       "      <th><\/th>\n",
       "      <th><\/th>\n",
       "      <th><\/th>\n",
       "      <th><\/th>\n",
       "      <th><\/th>\n",
       "      <th><\/th>\n",
       "      <th><\/th>\n",
       "      <th><\/th>\n",
       "      <th><\/th>\n",
       "      <th><\/th>\n",
       "      <th><\/th>\n",
       "      <th><\/th>\n",
       "      <th><\/th>\n",
       "      <th><\/th>\n",
       "      <th><\/th>\n",
       "      <th><\/th>\n",
       "      <th><\/th>\n",
       "      <th><\/th>\n",
       "      <th><\/th>\n",
       "      <th><\/th>\n",
       "      <th><\/th>\n",
       "      <th><\/th>\n",
       "      <th><\/th>\n",
       "      <th><\/th>\n",
       "      <th><\/th>\n",
       "      <th><\/th>\n",
       "      <th><\/th>\n",
       "      <th><\/th>\n",
       "      <th><\/th>\n",
       "      <th><\/th>\n",
       "      <th><\/th>\n",
       "      <th><\/th>\n",
       "      <th><\/th>\n",
       "      <th><\/th>\n",
       "      <th><\/th>\n",
       "      <th><\/th>\n",
       "      <th><\/th>\n",
       "      <th><\/th>\n",
       "    <\/tr>\n",
       "  <\/thead>\n",
       "  <tbody>\n",
       "    <tr>\n",
       "      <th rowspan=\"2\" valign=\"top\">Amer-Indian-Eskimo<\/th>\n",
       "      <th>Female<\/th>\n",
       "      <td>119.0<\/td>\n",
       "      <td>37.117647<\/td>\n",
       "      <td>13.114991<\/td>\n",
       "      <td>17.0<\/td>\n",
       "      <td>27.0<\/td>\n",
       "      <td>36.0<\/td>\n",
       "      <td>46.00<\/td>\n",
       "      <td>80.0<\/td>\n",
       "      <td>119.0<\/td>\n",
       "      <td>112950.731092<\/td>\n",
       "      <td>93207.974077<\/td>\n",
       "      <td>12285.0<\/td>\n",
       "      <td>31387.00<\/td>\n",
       "      <td>87950.0<\/td>\n",
       "      <td>163027.50<\/td>\n",
       "      <td>445168.0<\/td>\n",
       "      <td>119.0<\/td>\n",
       "      <td>9.697479<\/td>\n",
       "      <td>2.334540<\/td>\n",
       "      <td>2.0<\/td>\n",
       "      <td>9.0<\/td>\n",
       "      <td>10.0<\/td>\n",
       "      <td>11.0<\/td>\n",
       "      <td>16.0<\/td>\n",
       "      <td>119.0<\/td>\n",
       "      <td>544.605042<\/td>\n",
       "      <td>2451.591587<\/td>\n",
       "      <td>0.0<\/td>\n",
       "      <td>0.0<\/td>\n",
       "      <td>0.0<\/td>\n",
       "      <td>0.0<\/td>\n",
       "      <td>15024.0<\/td>\n",
       "      <td>119.0<\/td>\n",
       "      <td>14.462185<\/td>\n",
       "      <td>157.763811<\/td>\n",
       "      <td>0.0<\/td>\n",
       "      <td>0.0<\/td>\n",
       "      <td>0.0<\/td>\n",
       "      <td>0.0<\/td>\n",
       "      <td>1721.0<\/td>\n",
       "      <td>119.0<\/td>\n",
       "      <td>36.579832<\/td>\n",
       "      <td>11.046509<\/td>\n",
       "      <td>4.0<\/td>\n",
       "      <td>35.0<\/td>\n",
       "      <td>40.0<\/td>\n",
       "      <td>40.0<\/td>\n",
       "      <td>84.0<\/td>\n",
       "    <\/tr>\n",
       "    <tr>\n",
       "      <th>Male<\/th>\n",
       "      <td>192.0<\/td>\n",
       "      <td>37.208333<\/td>\n",
       "      <td>12.049563<\/td>\n",
       "      <td>17.0<\/td>\n",
       "      <td>28.0<\/td>\n",
       "      <td>35.0<\/td>\n",
       "      <td>45.00<\/td>\n",
       "      <td>82.0<\/td>\n",
       "      <td>192.0<\/td>\n",
       "      <td>125715.364583<\/td>\n",
       "      <td>85063.251595<\/td>\n",
       "      <td>13769.0<\/td>\n",
       "      <td>48197.75<\/td>\n",
       "      <td>113091.0<\/td>\n",
       "      <td>182656.00<\/td>\n",
       "      <td>356015.0<\/td>\n",
       "      <td>192.0<\/td>\n",
       "      <td>9.072917<\/td>\n",
       "      <td>2.268587<\/td>\n",
       "      <td>2.0<\/td>\n",
       "      <td>9.0<\/td>\n",
       "      <td>9.0<\/td>\n",
       "      <td>10.0<\/td>\n",
       "      <td>16.0<\/td>\n",
       "      <td>192.0<\/td>\n",
       "      <td>675.260417<\/td>\n",
       "      <td>2929.745443<\/td>\n",
       "      <td>0.0<\/td>\n",
       "      <td>0.0<\/td>\n",
       "      <td>0.0<\/td>\n",
       "      <td>0.0<\/td>\n",
       "      <td>27828.0<\/td>\n",
       "      <td>192.0<\/td>\n",
       "      <td>46.395833<\/td>\n",
       "      <td>286.562584<\/td>\n",
       "      <td>0.0<\/td>\n",
       "      <td>0.0<\/td>\n",
       "      <td>0.0<\/td>\n",
       "      <td>0.0<\/td>\n",
       "      <td>1980.0<\/td>\n",
       "      <td>192.0<\/td>\n",
       "      <td>42.197917<\/td>\n",
       "      <td>11.596280<\/td>\n",
       "      <td>3.0<\/td>\n",
       "      <td>40.0<\/td>\n",
       "      <td>40.0<\/td>\n",
       "      <td>45.0<\/td>\n",
       "      <td>84.0<\/td>\n",
       "    <\/tr>\n",
       "    <tr>\n",
       "      <th rowspan=\"2\" valign=\"top\">Asian-Pac-Islander<\/th>\n",
       "      <th>Female<\/th>\n",
       "      <td>346.0<\/td>\n",
       "      <td>35.089595<\/td>\n",
       "      <td>12.300845<\/td>\n",
       "      <td>17.0<\/td>\n",
       "      <td>25.0<\/td>\n",
       "      <td>33.0<\/td>\n",
       "      <td>43.75<\/td>\n",
       "      <td>75.0<\/td>\n",
       "      <td>346.0<\/td>\n",
       "      <td>147452.075145<\/td>\n",
       "      <td>76401.627757<\/td>\n",
       "      <td>19914.0<\/td>\n",
       "      <td>86879.25<\/td>\n",
       "      <td>131986.0<\/td>\n",
       "      <td>175705.75<\/td>\n",
       "      <td>379046.0<\/td>\n",
       "      <td>346.0<\/td>\n",
       "      <td>10.390173<\/td>\n",
       "      <td>2.796647<\/td>\n",
       "      <td>1.0<\/td>\n",
       "      <td>9.0<\/td>\n",
       "      <td>10.0<\/td>\n",
       "      <td>13.0<\/td>\n",
       "      <td>15.0<\/td>\n",
       "      <td>346.0<\/td>\n",
       "      <td>778.436416<\/td>\n",
       "      <td>7675.228631<\/td>\n",
       "      <td>0.0<\/td>\n",
       "      <td>0.0<\/td>\n",
       "      <td>0.0<\/td>\n",
       "      <td>0.0<\/td>\n",
       "      <td>99999.0<\/td>\n",
       "      <td>346.0<\/td>\n",
       "      <td>50.852601<\/td>\n",
       "      <td>296.529225<\/td>\n",
       "      <td>0.0<\/td>\n",
       "      <td>0.0<\/td>\n",
       "      <td>0.0<\/td>\n",
       "      <td>0.0<\/td>\n",
       "      <td>2258.0<\/td>\n",
       "      <td>346.0<\/td>\n",
       "      <td>37.439306<\/td>\n",
       "      <td>12.479459<\/td>\n",
       "      <td>1.0<\/td>\n",
       "      <td>35.0<\/td>\n",
       "      <td>40.0<\/td>\n",
       "      <td>40.0<\/td>\n",
       "      <td>99.0<\/td>\n",
       "    <\/tr>\n",
       "    <tr>\n",
       "      <th>Male<\/th>\n",
       "      <td>693.0<\/td>\n",
       "      <td>39.073593<\/td>\n",
       "      <td>12.883944<\/td>\n",
       "      <td>18.0<\/td>\n",
       "      <td>29.0<\/td>\n",
       "      <td>37.0<\/td>\n",
       "      <td>46.00<\/td>\n",
       "      <td>90.0<\/td>\n",
       "      <td>693.0<\/td>\n",
       "      <td>166175.865801<\/td>\n",
       "      <td>88552.952600<\/td>\n",
       "      <td>14878.0<\/td>\n",
       "      <td>98350.00<\/td>\n",
       "      <td>147719.0<\/td>\n",
       "      <td>200117.00<\/td>\n",
       "      <td>506329.0<\/td>\n",
       "      <td>693.0<\/td>\n",
       "      <td>11.245310<\/td>\n",
       "      <td>2.777463<\/td>\n",
       "      <td>1.0<\/td>\n",
       "      <td>9.0<\/td>\n",
       "      <td>11.0<\/td>\n",
       "      <td>13.0<\/td>\n",
       "      <td>16.0<\/td>\n",
       "      <td>693.0<\/td>\n",
       "      <td>1827.813853<\/td>\n",
       "      <td>10947.525528<\/td>\n",
       "      <td>0.0<\/td>\n",
       "      <td>0.0<\/td>\n",
       "      <td>0.0<\/td>\n",
       "      <td>0.0<\/td>\n",
       "      <td>99999.0<\/td>\n",
       "      <td>693.0<\/td>\n",
       "      <td>120.373737<\/td>\n",
       "      <td>472.917697<\/td>\n",
       "      <td>0.0<\/td>\n",
       "      <td>0.0<\/td>\n",
       "      <td>0.0<\/td>\n",
       "      <td>0.0<\/td>\n",
       "      <td>2457.0<\/td>\n",
       "      <td>693.0<\/td>\n",
       "      <td>41.468975<\/td>\n",
       "      <td>12.387563<\/td>\n",
       "      <td>1.0<\/td>\n",
       "      <td>40.0<\/td>\n",
       "      <td>40.0<\/td>\n",
       "      <td>45.0<\/td>\n",
       "      <td>99.0<\/td>\n",
       "    <\/tr>\n",
       "    <tr>\n",
       "      <th rowspan=\"2\" valign=\"top\">Black<\/th>\n",
       "      <th>Female<\/th>\n",
       "      <td>1555.0<\/td>\n",
       "      <td>37.854019<\/td>\n",
       "      <td>12.637197<\/td>\n",
       "      <td>17.0<\/td>\n",
       "      <td>28.0<\/td>\n",
       "      <td>37.0<\/td>\n",
       "      <td>46.00<\/td>\n",
       "      <td>90.0<\/td>\n",
       "      <td>1555.0<\/td>\n",
       "      <td>212971.387781<\/td>\n",
       "      <td>109971.263983<\/td>\n",
       "      <td>19752.0<\/td>\n",
       "      <td>142666.50<\/td>\n",
       "      <td>193553.0<\/td>\n",
       "      <td>253759.00<\/td>\n",
       "      <td>930948.0<\/td>\n",
       "      <td>1555.0<\/td>\n",
       "      <td>9.549839<\/td>\n",
       "      <td>2.207815<\/td>\n",
       "      <td>1.0<\/td>\n",
       "      <td>9.0<\/td>\n",
       "      <td>9.0<\/td>\n",
       "      <td>10.0<\/td>\n",
       "      <td>16.0<\/td>\n",
       "      <td>1555.0<\/td>\n",
       "      <td>516.593569<\/td>\n",
       "      <td>5312.749129<\/td>\n",
       "      <td>0.0<\/td>\n",
       "      <td>0.0<\/td>\n",
       "      <td>0.0<\/td>\n",
       "      <td>0.0<\/td>\n",
       "      <td>99999.0<\/td>\n",
       "      <td>1555.0<\/td>\n",
       "      <td>45.450804<\/td>\n",
       "      <td>299.099591<\/td>\n",
       "      <td>0.0<\/td>\n",
       "      <td>0.0<\/td>\n",
       "      <td>0.0<\/td>\n",
       "      <td>0.0<\/td>\n",
       "      <td>4356.0<\/td>\n",
       "      <td>1555.0<\/td>\n",
       "      <td>36.834084<\/td>\n",
       "      <td>9.419960<\/td>\n",
       "      <td>2.0<\/td>\n",
       "      <td>35.0<\/td>\n",
       "      <td>40.0<\/td>\n",
       "      <td>40.0<\/td>\n",
       "      <td>99.0<\/td>\n",
       "    <\/tr>\n",
       "    <tr>\n",
       "      <th>Male<\/th>\n",
       "      <td>1569.0<\/td>\n",
       "      <td>37.682600<\/td>\n",
       "      <td>12.882612<\/td>\n",
       "      <td>17.0<\/td>\n",
       "      <td>27.0<\/td>\n",
       "      <td>36.0<\/td>\n",
       "      <td>46.00<\/td>\n",
       "      <td>90.0<\/td>\n",
       "      <td>1569.0<\/td>\n",
       "      <td>242920.644997<\/td>\n",
       "      <td>134145.970948<\/td>\n",
       "      <td>21856.0<\/td>\n",
       "      <td>156410.00<\/td>\n",
       "      <td>221196.0<\/td>\n",
       "      <td>298601.00<\/td>\n",
       "      <td>1268339.0<\/td>\n",
       "      <td>1569.0<\/td>\n",
       "      <td>9.423199<\/td>\n",
       "      <td>2.382841<\/td>\n",
       "      <td>1.0<\/td>\n",
       "      <td>9.0<\/td>\n",
       "      <td>9.0<\/td>\n",
       "      <td>10.0<\/td>\n",
       "      <td>16.0<\/td>\n",
       "      <td>1569.0<\/td>\n",
       "      <td>702.454430<\/td>\n",
       "      <td>4962.113183<\/td>\n",
       "      <td>0.0<\/td>\n",
       "      <td>0.0<\/td>\n",
       "      <td>0.0<\/td>\n",
       "      <td>0.0<\/td>\n",
       "      <td>99999.0<\/td>\n",
       "      <td>1569.0<\/td>\n",
       "      <td>75.186106<\/td>\n",
       "      <td>370.976546<\/td>\n",
       "      <td>0.0<\/td>\n",
       "      <td>0.0<\/td>\n",
       "      <td>0.0<\/td>\n",
       "      <td>0.0<\/td>\n",
       "      <td>2824.0<\/td>\n",
       "      <td>1569.0<\/td>\n",
       "      <td>39.997451<\/td>\n",
       "      <td>10.909413<\/td>\n",
       "      <td>1.0<\/td>\n",
       "      <td>40.0<\/td>\n",
       "      <td>40.0<\/td>\n",
       "      <td>40.0<\/td>\n",
       "      <td>99.0<\/td>\n",
       "    <\/tr>\n",
       "    <tr>\n",
       "      <th rowspan=\"2\" valign=\"top\">Other<\/th>\n",
       "      <th>Female<\/th>\n",
       "      <td>109.0<\/td>\n",
       "      <td>31.678899<\/td>\n",
       "      <td>11.631599<\/td>\n",
       "      <td>17.0<\/td>\n",
       "      <td>23.0<\/td>\n",
       "      <td>29.0<\/td>\n",
       "      <td>39.00<\/td>\n",
       "      <td>74.0<\/td>\n",
       "      <td>109.0<\/td>\n",
       "      <td>172519.642202<\/td>\n",
       "      <td>77766.666801<\/td>\n",
       "      <td>24562.0<\/td>\n",
       "      <td>119890.00<\/td>\n",
       "      <td>171199.0<\/td>\n",
       "      <td>219441.00<\/td>\n",
       "      <td>388741.0<\/td>\n",
       "      <td>109.0<\/td>\n",
       "      <td>8.899083<\/td>\n",
       "      <td>3.027482<\/td>\n",
       "      <td>2.0<\/td>\n",
       "      <td>7.0<\/td>\n",
       "      <td>9.0<\/td>\n",
       "      <td>10.0<\/td>\n",
       "      <td>14.0<\/td>\n",
       "      <td>109.0<\/td>\n",
       "      <td>254.669725<\/td>\n",
       "      <td>1317.326460<\/td>\n",
       "      <td>0.0<\/td>\n",
       "      <td>0.0<\/td>\n",
       "      <td>0.0<\/td>\n",
       "      <td>0.0<\/td>\n",
       "      <td>7688.0<\/td>\n",
       "      <td>109.0<\/td>\n",
       "      <td>36.284404<\/td>\n",
       "      <td>231.796929<\/td>\n",
       "      <td>0.0<\/td>\n",
       "      <td>0.0<\/td>\n",
       "      <td>0.0<\/td>\n",
       "      <td>0.0<\/td>\n",
       "      <td>1740.0<\/td>\n",
       "      <td>109.0<\/td>\n",
       "      <td>35.926606<\/td>\n",
       "      <td>10.300761<\/td>\n",
       "      <td>6.0<\/td>\n",
       "      <td>30.0<\/td>\n",
       "      <td>40.0<\/td>\n",
       "      <td>40.0<\/td>\n",
       "      <td>65.0<\/td>\n",
       "    <\/tr>\n",
       "    <tr>\n",
       "      <th>Male<\/th>\n",
       "      <td>162.0<\/td>\n",
       "      <td>34.654321<\/td>\n",
       "      <td>11.355531<\/td>\n",
       "      <td>17.0<\/td>\n",
       "      <td>26.0<\/td>\n",
       "      <td>32.0<\/td>\n",
       "      <td>42.00<\/td>\n",
       "      <td>77.0<\/td>\n",
       "      <td>162.0<\/td>\n",
       "      <td>213679.104938<\/td>\n",
       "      <td>92187.362738<\/td>\n",
       "      <td>25610.0<\/td>\n",
       "      <td>150726.75<\/td>\n",
       "      <td>208516.5<\/td>\n",
       "      <td>253334.75<\/td>\n",
       "      <td>481175.0<\/td>\n",
       "      <td>162.0<\/td>\n",
       "      <td>8.802469<\/td>\n",
       "      <td>3.361897<\/td>\n",
       "      <td>1.0<\/td>\n",
       "      <td>8.0<\/td>\n",
       "      <td>9.0<\/td>\n",
       "      <td>10.0<\/td>\n",
       "      <td>16.0<\/td>\n",
       "      <td>162.0<\/td>\n",
       "      <td>1392.185185<\/td>\n",
       "      <td>11093.711595<\/td>\n",
       "      <td>0.0<\/td>\n",
       "      <td>0.0<\/td>\n",
       "      <td>0.0<\/td>\n",
       "      <td>0.0<\/td>\n",
       "      <td>99999.0<\/td>\n",
       "      <td>162.0<\/td>\n",
       "      <td>77.746914<\/td>\n",
       "      <td>370.986720<\/td>\n",
       "      <td>0.0<\/td>\n",
       "      <td>0.0<\/td>\n",
       "      <td>0.0<\/td>\n",
       "      <td>0.0<\/td>\n",
       "      <td>2179.0<\/td>\n",
       "      <td>162.0<\/td>\n",
       "      <td>41.851852<\/td>\n",
       "      <td>11.084779<\/td>\n",
       "      <td>5.0<\/td>\n",
       "      <td>40.0<\/td>\n",
       "      <td>40.0<\/td>\n",
       "      <td>40.0<\/td>\n",
       "      <td>98.0<\/td>\n",
       "    <\/tr>\n",
       "    <tr>\n",
       "      <th rowspan=\"2\" valign=\"top\">White<\/th>\n",
       "      <th>Female<\/th>\n",
       "      <td>8642.0<\/td>\n",
       "      <td>36.811618<\/td>\n",
       "      <td>14.329093<\/td>\n",
       "      <td>17.0<\/td>\n",
       "      <td>25.0<\/td>\n",
       "      <td>35.0<\/td>\n",
       "      <td>46.00<\/td>\n",
       "      <td>90.0<\/td>\n",
       "      <td>8642.0<\/td>\n",
       "      <td>183549.966906<\/td>\n",
       "      <td>101710.294874<\/td>\n",
       "      <td>19395.0<\/td>\n",
       "      <td>115914.75<\/td>\n",
       "      <td>175810.5<\/td>\n",
       "      <td>224836.50<\/td>\n",
       "      <td>1484705.0<\/td>\n",
       "      <td>8642.0<\/td>\n",
       "      <td>10.127980<\/td>\n",
       "      <td>2.368115<\/td>\n",
       "      <td>1.0<\/td>\n",
       "      <td>9.0<\/td>\n",
       "      <td>10.0<\/td>\n",
       "      <td>12.0<\/td>\n",
       "      <td>16.0<\/td>\n",
       "      <td>8642.0<\/td>\n",
       "      <td>573.610391<\/td>\n",
       "      <td>4763.131649<\/td>\n",
       "      <td>0.0<\/td>\n",
       "      <td>0.0<\/td>\n",
       "      <td>0.0<\/td>\n",
       "      <td>0.0<\/td>\n",
       "      <td>99999.0<\/td>\n",
       "      <td>8642.0<\/td>\n",
       "      <td>65.390535<\/td>\n",
       "      <td>352.330817<\/td>\n",
       "      <td>0.0<\/td>\n",
       "      <td>0.0<\/td>\n",
       "      <td>0.0<\/td>\n",
       "      <td>0.0<\/td>\n",
       "      <td>4356.0<\/td>\n",
       "      <td>8642.0<\/td>\n",
       "      <td>36.296691<\/td>\n",
       "      <td>12.190951<\/td>\n",
       "      <td>1.0<\/td>\n",
       "      <td>30.0<\/td>\n",
       "      <td>40.0<\/td>\n",
       "      <td>40.0<\/td>\n",
       "      <td>99.0<\/td>\n",
       "    <\/tr>\n",
       "    <tr>\n",
       "      <th>Male<\/th>\n",
       "      <td>19174.0<\/td>\n",
       "      <td>39.652498<\/td>\n",
       "      <td>13.436029<\/td>\n",
       "      <td>17.0<\/td>\n",
       "      <td>29.0<\/td>\n",
       "      <td>38.0<\/td>\n",
       "      <td>49.00<\/td>\n",
       "      <td>90.0<\/td>\n",
       "      <td>19174.0<\/td>\n",
       "      <td>188987.386148<\/td>\n",
       "      <td>103714.598850<\/td>\n",
       "      <td>18827.0<\/td>\n",
       "      <td>117381.00<\/td>\n",
       "      <td>178662.5<\/td>\n",
       "      <td>236858.75<\/td>\n",
       "      <td>1455435.0<\/td>\n",
       "      <td>19174.0<\/td>\n",
       "      <td>10.138521<\/td>\n",
       "      <td>2.656464<\/td>\n",
       "      <td>1.0<\/td>\n",
       "      <td>9.0<\/td>\n",
       "      <td>10.0<\/td>\n",
       "      <td>13.0<\/td>\n",
       "      <td>16.0<\/td>\n",
       "      <td>19174.0<\/td>\n",
       "      <td>1368.674455<\/td>\n",
       "      <td>8442.830669<\/td>\n",
       "      <td>0.0<\/td>\n",
       "      <td>0.0<\/td>\n",
       "      <td>0.0<\/td>\n",
       "      <td>0.0<\/td>\n",
       "      <td>99999.0<\/td>\n",
       "      <td>19174.0<\/td>\n",
       "      <td>102.261343<\/td>\n",
       "      <td>434.156936<\/td>\n",
       "      <td>0.0<\/td>\n",
       "      <td>0.0<\/td>\n",
       "      <td>0.0<\/td>\n",
       "      <td>0.0<\/td>\n",
       "      <td>3770.0<\/td>\n",
       "      <td>19174.0<\/td>\n",
       "      <td>42.668822<\/td>\n",
       "      <td>12.194633<\/td>\n",
       "      <td>1.0<\/td>\n",
       "      <td>40.0<\/td>\n",
       "      <td>40.0<\/td>\n",
       "      <td>50.0<\/td>\n",
       "      <td>99.0<\/td>\n",
       "    <\/tr>\n",
       "  <\/tbody>\n",
       "<\/table>\n",
       "<\/div>"
      ]
     },
     "metadata":{
      
     },
     "output_type":"display_data"
    }
   ],
   "metadata":{
    "datalore":{
     "type":"CODE",
     "hide_input_from_viewers":false,
     "hide_output_from_viewers":false
    }
   }
  },
  {
   "cell_type":"markdown",
   "source":[
    "**8. Among whom is the proportion of those who earn a lot (`>50K`) greater: married or single men (*marital-status* feature)? Consider as married those who have a *marital-status* starting with *Married* (`Married-civ-spouse`, `Married-spouse-absent` or `Married-AF-spouse`), the rest are considered bachelors.**"
   ],
   "attachments":{
    
   },
   "metadata":{
    "datalore":{
     "type":"MD",
     "hide_input_from_viewers":false,
     "hide_output_from_viewers":false
    }
   }
  },
  {
   "cell_type":"code",
   "source":[
    "df[(df['sex'] == 'Male') & (df[\"marital-status\"].str.startswith(\"Married\"))]['salary'].value_counts()"
   ],
   "execution_count":34,
   "outputs":[
    {
     "data":{
      "text\/html":[
       
      ]
     },
     "metadata":{
      
     },
     "output_type":"display_data"
    }
   ],
   "metadata":{
    "datalore":{
     "type":"CODE",
     "hide_input_from_viewers":false,
     "hide_output_from_viewers":false
    }
   }
  },
  {
   "cell_type":"code",
   "source":[
    "df[(df['sex'] == 'Male') & ~(df[\"marital-status\"].str.startswith(\"Married\"))]['salary'].value_counts()"
   ],
   "execution_count":36,
   "outputs":[
    {
     "data":{
      "text\/html":[
       
      ]
     },
     "metadata":{
      
     },
     "output_type":"display_data"
    }
   ],
   "metadata":{
    "datalore":{
     "type":"CODE",
     "hide_input_from_viewers":false,
     "hide_output_from_viewers":false
    }
   }
  },
  {
   "cell_type":"markdown",
   "source":[
    "**9. What is the maximum number of hours a person works per week (*hours-per-week* feature)? How many people work such a number of hours, and what is the percentage of those who earn a lot (`>50K`) among them?**"
   ],
   "attachments":{
    
   },
   "metadata":{
    "datalore":{
     "type":"MD",
     "hide_input_from_viewers":false,
     "hide_output_from_viewers":false
    }
   }
  },
  {
   "cell_type":"code",
   "source":[
    "max_hours = df[\"hours-per-week\"].max()\n",
    "people_max_hours = df[df['hours-per-week'] == max_hours]['hours-per-week'].count()\n",
    "rich_max_hours = df[(df[\"hours-per-week\"] == max_hours) & (df[\"salary\"] == \">50K\")]['hours-per-week'].count()\n",
    "percentage = rich_max_hours * 100 \/ people_max_hours\n",
    "percentage"
   ],
   "execution_count":70,
   "outputs":[
    {
     "data":{
      "text\/plain":[
       "29.41176470588235"
      ]
     },
     "metadata":{
      
     },
     "output_type":"display_data"
    }
   ],
   "metadata":{
    "datalore":{
     "type":"CODE",
     "hide_input_from_viewers":false,
     "hide_output_from_viewers":false
    }
   }
  },
  {
   "cell_type":"markdown",
   "source":[
    "**10. Count the average time of work (*hours-per-week*) for those who earn a little and a lot (*salary*) for each country (*native-country*). What will these be for Japan?**"
   ],
   "attachments":{
    
   },
   "metadata":{
    "datalore":{
     "type":"MD",
     "hide_input_from_viewers":false,
     "hide_output_from_viewers":false
    }
   }
  },
  {
   "cell_type":"code",
   "source":[
    "df.groupby(by=['native-country', 'salary'])['hours-per-week'].describe()"
   ],
   "execution_count":73,
   "outputs":[
    {
     "data":{
      "text\/html":[
       "<div>\n",
       "<style scoped>\n",
       "    .dataframe tbody tr th:only-of-type {\n",
       "        vertical-align: middle;\n",
       "    }\n",
       "\n",
       "    .dataframe tbody tr th {\n",
       "        vertical-align: top;\n",
       "    }\n",
       "\n",
       "    .dataframe thead th {\n",
       "        text-align: right;\n",
       "    }\n",
       "<\/style>\n",
       "<table border=\"1\" class=\"dataframe\">\n",
       "  <thead>\n",
       "    <tr style=\"text-align: right;\">\n",
       "      <th><\/th>\n",
       "      <th><\/th>\n",
       "      <th>count<\/th>\n",
       "      <th>mean<\/th>\n",
       "      <th>std<\/th>\n",
       "      <th>min<\/th>\n",
       "      <th>25%<\/th>\n",
       "      <th>50%<\/th>\n",
       "      <th>75%<\/th>\n",
       "      <th>max<\/th>\n",
       "    <\/tr>\n",
       "    <tr>\n",
       "      <th>native-country<\/th>\n",
       "      <th>salary<\/th>\n",
       "      <th><\/th>\n",
       "      <th><\/th>\n",
       "      <th><\/th>\n",
       "      <th><\/th>\n",
       "      <th><\/th>\n",
       "      <th><\/th>\n",
       "      <th><\/th>\n",
       "      <th><\/th>\n",
       "    <\/tr>\n",
       "  <\/thead>\n",
       "  <tbody>\n",
       "    <tr>\n",
       "      <th rowspan=\"2\" valign=\"top\">?<\/th>\n",
       "      <th>&lt;=50K<\/th>\n",
       "      <td>437.0<\/td>\n",
       "      <td>40.164760<\/td>\n",
       "      <td>12.817002<\/td>\n",
       "      <td>1.0<\/td>\n",
       "      <td>40.00<\/td>\n",
       "      <td>40.0<\/td>\n",
       "      <td>45.0<\/td>\n",
       "      <td>99.0<\/td>\n",
       "    <\/tr>\n",
       "    <tr>\n",
       "      <th>&gt;50K<\/th>\n",
       "      <td>146.0<\/td>\n",
       "      <td>45.547945<\/td>\n",
       "      <td>10.202827<\/td>\n",
       "      <td>8.0<\/td>\n",
       "      <td>40.00<\/td>\n",
       "      <td>40.0<\/td>\n",
       "      <td>50.0<\/td>\n",
       "      <td>80.0<\/td>\n",
       "    <\/tr>\n",
       "    <tr>\n",
       "      <th rowspan=\"2\" valign=\"top\">Cambodia<\/th>\n",
       "      <th>&lt;=50K<\/th>\n",
       "      <td>12.0<\/td>\n",
       "      <td>41.416667<\/td>\n",
       "      <td>3.088346<\/td>\n",
       "      <td>40.0<\/td>\n",
       "      <td>40.00<\/td>\n",
       "      <td>40.0<\/td>\n",
       "      <td>40.5<\/td>\n",
       "      <td>50.0<\/td>\n",
       "    <\/tr>\n",
       "    <tr>\n",
       "      <th>&gt;50K<\/th>\n",
       "      <td>7.0<\/td>\n",
       "      <td>40.000000<\/td>\n",
       "      <td>0.000000<\/td>\n",
       "      <td>40.0<\/td>\n",
       "      <td>40.00<\/td>\n",
       "      <td>40.0<\/td>\n",
       "      <td>40.0<\/td>\n",
       "      <td>40.0<\/td>\n",
       "    <\/tr>\n",
       "    <tr>\n",
       "      <th>Canada<\/th>\n",
       "      <th>&lt;=50K<\/th>\n",
       "      <td>82.0<\/td>\n",
       "      <td>37.914634<\/td>\n",
       "      <td>13.012056<\/td>\n",
       "      <td>8.0<\/td>\n",
       "      <td>32.75<\/td>\n",
       "      <td>40.0<\/td>\n",
       "      <td>40.0<\/td>\n",
       "      <td>70.0<\/td>\n",
       "    <\/tr>\n",
       "    <tr>\n",
       "      <th>...<\/th>\n",
       "      <th>...<\/th>\n",
       "      <td>...<\/td>\n",
       "      <td>...<\/td>\n",
       "      <td>...<\/td>\n",
       "      <td>...<\/td>\n",
       "      <td>...<\/td>\n",
       "      <td>...<\/td>\n",
       "      <td>...<\/td>\n",
       "      <td>...<\/td>\n",
       "    <\/tr>\n",
       "    <tr>\n",
       "      <th>United-States<\/th>\n",
       "      <th>&gt;50K<\/th>\n",
       "      <td>7171.0<\/td>\n",
       "      <td>45.505369<\/td>\n",
       "      <td>11.025092<\/td>\n",
       "      <td>1.0<\/td>\n",
       "      <td>40.00<\/td>\n",
       "      <td>40.0<\/td>\n",
       "      <td>50.0<\/td>\n",
       "      <td>99.0<\/td>\n",
       "    <\/tr>\n",
       "    <tr>\n",
       "      <th rowspan=\"2\" valign=\"top\">Vietnam<\/th>\n",
       "      <th>&lt;=50K<\/th>\n",
       "      <td>62.0<\/td>\n",
       "      <td>37.193548<\/td>\n",
       "      <td>12.422664<\/td>\n",
       "      <td>1.0<\/td>\n",
       "      <td>40.00<\/td>\n",
       "      <td>40.0<\/td>\n",
       "      <td>40.0<\/td>\n",
       "      <td>77.0<\/td>\n",
       "    <\/tr>\n",
       "    <tr>\n",
       "      <th>&gt;50K<\/th>\n",
       "      <td>5.0<\/td>\n",
       "      <td>39.200000<\/td>\n",
       "      <td>1.788854<\/td>\n",
       "      <td>36.0<\/td>\n",
       "      <td>40.00<\/td>\n",
       "      <td>40.0<\/td>\n",
       "      <td>40.0<\/td>\n",
       "      <td>40.0<\/td>\n",
       "    <\/tr>\n",
       "    <tr>\n",
       "      <th rowspan=\"2\" valign=\"top\">Yugoslavia<\/th>\n",
       "      <th>&lt;=50K<\/th>\n",
       "      <td>10.0<\/td>\n",
       "      <td>41.600000<\/td>\n",
       "      <td>11.305849<\/td>\n",
       "      <td>20.0<\/td>\n",
       "      <td>40.00<\/td>\n",
       "      <td>40.0<\/td>\n",
       "      <td>40.0<\/td>\n",
       "      <td>66.0<\/td>\n",
       "    <\/tr>\n",
       "    <tr>\n",
       "      <th>&gt;50K<\/th>\n",
       "      <td>6.0<\/td>\n",
       "      <td>49.500000<\/td>\n",
       "      <td>11.202678<\/td>\n",
       "      <td>40.0<\/td>\n",
       "      <td>40.00<\/td>\n",
       "      <td>46.0<\/td>\n",
       "      <td>58.0<\/td>\n",
       "      <td>65.0<\/td>\n",
       "    <\/tr>\n",
       "  <\/tbody>\n",
       "<\/table>\n",
       "<p>82 rows × 8 columns<\/p>\n",
       "<\/div>"
      ]
     },
     "metadata":{
      
     },
     "output_type":"display_data"
    }
   ],
   "metadata":{
    "datalore":{
     "type":"CODE",
     "hide_input_from_viewers":false,
     "hide_output_from_viewers":false
    }
   }
  },
  {
   "cell_type":"code",
   "source":[
    "pd.crosstab(\n",
    "    data[\"native-country\"],\n",
    "    data[\"salary\"],\n",
    "    values=data[\"hours-per-week\"],\n",
    "    aggfunc=np.mean,\n",
    ").T"
   ],
   "execution_count":74,
   "outputs":[
    {
     "data":{
      "text\/html":[
       "<div>\n",
       "<style scoped>\n",
       "    .dataframe tbody tr th:only-of-type {\n",
       "        vertical-align: middle;\n",
       "    }\n",
       "\n",
       "    .dataframe tbody tr th {\n",
       "        vertical-align: top;\n",
       "    }\n",
       "\n",
       "    .dataframe thead th {\n",
       "        text-align: right;\n",
       "    }\n",
       "<\/style>\n",
       "<table border=\"1\" class=\"dataframe\">\n",
       "  <thead>\n",
       "    <tr style=\"text-align: right;\">\n",
       "      <th>native-country<\/th>\n",
       "      <th>?<\/th>\n",
       "      <th>Cambodia<\/th>\n",
       "      <th>Canada<\/th>\n",
       "      <th>China<\/th>\n",
       "      <th>Columbia<\/th>\n",
       "      <th>Cuba<\/th>\n",
       "      <th>Dominican-Republic<\/th>\n",
       "      <th>Ecuador<\/th>\n",
       "      <th>El-Salvador<\/th>\n",
       "      <th>England<\/th>\n",
       "      <th>France<\/th>\n",
       "      <th>Germany<\/th>\n",
       "      <th>Greece<\/th>\n",
       "      <th>Guatemala<\/th>\n",
       "      <th>Haiti<\/th>\n",
       "      <th>Holand-Netherlands<\/th>\n",
       "      <th>Honduras<\/th>\n",
       "      <th>Hong<\/th>\n",
       "      <th>Hungary<\/th>\n",
       "      <th>India<\/th>\n",
       "      <th>Iran<\/th>\n",
       "      <th>Ireland<\/th>\n",
       "      <th>Italy<\/th>\n",
       "      <th>Jamaica<\/th>\n",
       "      <th>Japan<\/th>\n",
       "      <th>Laos<\/th>\n",
       "      <th>Mexico<\/th>\n",
       "      <th>Nicaragua<\/th>\n",
       "      <th>Outlying-US(Guam-USVI-etc)<\/th>\n",
       "      <th>Peru<\/th>\n",
       "      <th>Philippines<\/th>\n",
       "      <th>Poland<\/th>\n",
       "      <th>Portugal<\/th>\n",
       "      <th>Puerto-Rico<\/th>\n",
       "      <th>Scotland<\/th>\n",
       "      <th>South<\/th>\n",
       "      <th>Taiwan<\/th>\n",
       "      <th>Thailand<\/th>\n",
       "      <th>Trinadad&amp;Tobago<\/th>\n",
       "      <th>United-States<\/th>\n",
       "      <th>Vietnam<\/th>\n",
       "      <th>Yugoslavia<\/th>\n",
       "    <\/tr>\n",
       "    <tr>\n",
       "      <th>salary<\/th>\n",
       "      <th><\/th>\n",
       "      <th><\/th>\n",
       "      <th><\/th>\n",
       "      <th><\/th>\n",
       "      <th><\/th>\n",
       "      <th><\/th>\n",
       "      <th><\/th>\n",
       "      <th><\/th>\n",
       "      <th><\/th>\n",
       "      <th><\/th>\n",
       "      <th><\/th>\n",
       "      <th><\/th>\n",
       "      <th><\/th>\n",
       "      <th><\/th>\n",
       "      <th><\/th>\n",
       "      <th><\/th>\n",
       "      <th><\/th>\n",
       "      <th><\/th>\n",
       "      <th><\/th>\n",
       "      <th><\/th>\n",
       "      <th><\/th>\n",
       "      <th><\/th>\n",
       "      <th><\/th>\n",
       "      <th><\/th>\n",
       "      <th><\/th>\n",
       "      <th><\/th>\n",
       "      <th><\/th>\n",
       "      <th><\/th>\n",
       "      <th><\/th>\n",
       "      <th><\/th>\n",
       "      <th><\/th>\n",
       "      <th><\/th>\n",
       "      <th><\/th>\n",
       "      <th><\/th>\n",
       "      <th><\/th>\n",
       "      <th><\/th>\n",
       "      <th><\/th>\n",
       "      <th><\/th>\n",
       "      <th><\/th>\n",
       "      <th><\/th>\n",
       "      <th><\/th>\n",
       "      <th><\/th>\n",
       "    <\/tr>\n",
       "  <\/thead>\n",
       "  <tbody>\n",
       "    <tr>\n",
       "      <th>&lt;=50K<\/th>\n",
       "      <td>40.164760<\/td>\n",
       "      <td>41.416667<\/td>\n",
       "      <td>37.914634<\/td>\n",
       "      <td>37.381818<\/td>\n",
       "      <td>38.684211<\/td>\n",
       "      <td>37.985714<\/td>\n",
       "      <td>42.338235<\/td>\n",
       "      <td>38.041667<\/td>\n",
       "      <td>36.030928<\/td>\n",
       "      <td>40.483333<\/td>\n",
       "      <td>41.058824<\/td>\n",
       "      <td>39.139785<\/td>\n",
       "      <td>41.809524<\/td>\n",
       "      <td>39.360656<\/td>\n",
       "      <td>36.325<\/td>\n",
       "      <td>40.0<\/td>\n",
       "      <td>34.333333<\/td>\n",
       "      <td>39.142857<\/td>\n",
       "      <td>31.3<\/td>\n",
       "      <td>38.233333<\/td>\n",
       "      <td>41.44<\/td>\n",
       "      <td>40.947368<\/td>\n",
       "      <td>39.625<\/td>\n",
       "      <td>38.239437<\/td>\n",
       "      <td>41.000000<\/td>\n",
       "      <td>40.375<\/td>\n",
       "      <td>40.003279<\/td>\n",
       "      <td>36.09375<\/td>\n",
       "      <td>41.857143<\/td>\n",
       "      <td>35.068966<\/td>\n",
       "      <td>38.065693<\/td>\n",
       "      <td>38.166667<\/td>\n",
       "      <td>41.939394<\/td>\n",
       "      <td>38.470588<\/td>\n",
       "      <td>39.444444<\/td>\n",
       "      <td>40.15625<\/td>\n",
       "      <td>33.774194<\/td>\n",
       "      <td>42.866667<\/td>\n",
       "      <td>37.058824<\/td>\n",
       "      <td>38.799127<\/td>\n",
       "      <td>37.193548<\/td>\n",
       "      <td>41.6<\/td>\n",
       "    <\/tr>\n",
       "    <tr>\n",
       "      <th>&gt;50K<\/th>\n",
       "      <td>45.547945<\/td>\n",
       "      <td>40.000000<\/td>\n",
       "      <td>45.641026<\/td>\n",
       "      <td>38.900000<\/td>\n",
       "      <td>50.000000<\/td>\n",
       "      <td>42.440000<\/td>\n",
       "      <td>47.000000<\/td>\n",
       "      <td>48.750000<\/td>\n",
       "      <td>45.000000<\/td>\n",
       "      <td>44.533333<\/td>\n",
       "      <td>50.750000<\/td>\n",
       "      <td>44.977273<\/td>\n",
       "      <td>50.625000<\/td>\n",
       "      <td>36.666667<\/td>\n",
       "      <td>42.750<\/td>\n",
       "      <td>NaN<\/td>\n",
       "      <td>60.000000<\/td>\n",
       "      <td>45.000000<\/td>\n",
       "      <td>50.0<\/td>\n",
       "      <td>46.475000<\/td>\n",
       "      <td>47.50<\/td>\n",
       "      <td>48.000000<\/td>\n",
       "      <td>45.400<\/td>\n",
       "      <td>41.100000<\/td>\n",
       "      <td>47.958333<\/td>\n",
       "      <td>40.000<\/td>\n",
       "      <td>46.575758<\/td>\n",
       "      <td>37.50000<\/td>\n",
       "      <td>NaN<\/td>\n",
       "      <td>40.000000<\/td>\n",
       "      <td>43.032787<\/td>\n",
       "      <td>39.000000<\/td>\n",
       "      <td>41.500000<\/td>\n",
       "      <td>39.416667<\/td>\n",
       "      <td>46.666667<\/td>\n",
       "      <td>51.43750<\/td>\n",
       "      <td>46.800000<\/td>\n",
       "      <td>58.333333<\/td>\n",
       "      <td>40.000000<\/td>\n",
       "      <td>45.505369<\/td>\n",
       "      <td>39.200000<\/td>\n",
       "      <td>49.5<\/td>\n",
       "    <\/tr>\n",
       "  <\/tbody>\n",
       "<\/table>\n",
       "<\/div>"
      ]
     },
     "metadata":{
      
     },
     "output_type":"display_data"
    }
   ],
   "metadata":{
    "datalore":{
     "type":"CODE",
     "hide_input_from_viewers":false,
     "hide_output_from_viewers":false
    }
   }
  }
 ],
 "metadata":{
  "datalore":{
   "version":1,
   "computation_mode":"JUPYTER",
   "package_manager":"pip",
   "base_environment":"default",
   "packages":[
    
   ]
  }
 },
 "nbformat":4,
 "nbformat_minor":4
}